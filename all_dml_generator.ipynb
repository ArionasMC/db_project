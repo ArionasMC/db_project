{
 "cells": [
  {
   "cell_type": "code",
   "execution_count": 1,
   "id": "21e731c6-adff-41bb-959a-567455a8ba66",
   "metadata": {},
   "outputs": [],
   "source": [
    "import pandas as pd"
   ]
  },
  {
   "cell_type": "code",
   "execution_count": 20,
   "id": "5f816536-eb0f-47f1-add6-2345beb5f090",
   "metadata": {},
   "outputs": [],
   "source": [
    "tables_order = [\"image\", \"cuisine\", \"food_team\", \"ingredient\", \"recipe\", \"recipe_has_meal\", \"recipe_has_label\",\n",
    "                \"tip\", \"recipe_has_tip\", \"equipment\", \"recipe_has_equipment\", \"recipe_has_ingredient\",\n",
    "                \"theme\", \"recipe_has_theme\", \"step\", \"food_info\", \"chef\", \"recipe_has_chef\", \"chef_has_cuisine\", \n",
    "                \"episode\", \"episode_judges\", \"episode_has_recipe\", \"grading\"]\n",
    "\n",
    "queries = [\"USE mydb;\",\n",
    "           \"SET SESSION sql_mode='NO_AUTO_VALUE_ON_ZERO';\"]\n",
    "\n",
    "for table in tables_order:\n",
    "    df = pd.read_csv(\"data/to_import/{0}.csv\".format(table))\n",
    "    data = list(df.itertuples(index=False, name=None))\n",
    "    \n",
    "    prefix = \"INSERT INTO {0} (\".format(table)\n",
    "    suffix = \") VALUES (\"\n",
    "    for col in df.columns:\n",
    "        prefix = prefix+\"{0},\".format(col)\n",
    "        suffix = suffix+\"%s,\"\n",
    "    sql = prefix[:-1]+suffix[:-1]+\");\"\n",
    "    \n",
    "    for t in data:\n",
    "        queries.append(sql % t)    "
   ]
  },
  {
   "cell_type": "code",
   "execution_count": 21,
   "id": "e7cc6000-32f0-4558-b6f4-d64cc824e5eb",
   "metadata": {},
   "outputs": [],
   "source": [
    "f = open(\"dml_script.sql\", \"w\")\n",
    "for query in queries:\n",
    "    f.write(query+\"\\n\")\n",
    "f.close()"
   ]
  }
 ],
 "metadata": {
  "kernelspec": {
   "display_name": "Python 3 (ipykernel)",
   "language": "python",
   "name": "python3"
  },
  "language_info": {
   "codemirror_mode": {
    "name": "ipython",
    "version": 3
   },
   "file_extension": ".py",
   "mimetype": "text/x-python",
   "name": "python",
   "nbconvert_exporter": "python",
   "pygments_lexer": "ipython3",
   "version": "3.12.2"
  }
 },
 "nbformat": 4,
 "nbformat_minor": 5
}
