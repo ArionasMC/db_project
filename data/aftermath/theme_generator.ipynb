{
 "cells": [
  {
   "cell_type": "code",
   "execution_count": 5,
   "id": "e9af4379-bc23-4021-b372-2574466bae12",
   "metadata": {},
   "outputs": [],
   "source": [
    "import pandas as pd\n",
    "import csv"
   ]
  },
  {
   "cell_type": "code",
   "execution_count": 6,
   "id": "bbcb35b2-e3d7-4bdb-ac17-08a644006e0f",
   "metadata": {},
   "outputs": [],
   "source": [
    "image_theme = {\n",
    "    \"id\": [3001, 3002, 3003, 3004, 3005, 3006, 3007, 3008, 3009, 3010],\n",
    "    \"description\": [],\n",
    "    \"image_url\": [\"https://media-cdn.tripadvisor.com/media/photo-s/19/a5/2b/8a/taco-fiesta-bali.jpg\",\n",
    "                 \"https://www.shutterstock.com/image-illustration/set-delicious-tasty-spanish-delights-260nw-609078893.jpg\",\n",
    "                 \"https://www.shutterstock.com/shutterstock/photos/1054754711/display_1500/stock-photo-view-of-a-small-local-restaurant-or-trattoria-in-italy-1054754711.jpg\",\n",
    "                 \"https://img.evbuc.com/https%3A%2F%2Fcdn.evbuc.com%2Fimages%2F702364939%2F1334550967343%2F1%2Foriginal.20240221-201702?w=1000&auto=format%2Ccompress&q=75&sharp=10&s=af66148673e16cfa8cf0d7a496ae94a3\",\n",
    "                 \"https://media.istockphoto.com/id/1317255793/photo/rijsttafel-nusantara-an-elaborate-meal-of-indonesian-dishes.jpg?s=612x612&w=0&k=20&c=F_CtvP1w7CMbth0vyT-aqzkB3D5TqZbnwgLc7tbpnsc=\",\n",
    "                 \"https://media.istockphoto.com/id/1346744481/photo/anonymous-chef-harvesting-fresh-vegetables-on-a-farm.jpg?s=612x612&w=0&k=20&c=U9h4fAi68nwVndAJW8TF-f2lFFCO2Y-XrZWA2gah1Xw=\",\n",
    "                 \"https://st.depositphotos.com/20827338/57620/i/450/depositphotos_576201884-stock-photo-seafood-plate-shrimp-shellfish-crab.jpg\",\n",
    "                 \"https://www.shutterstock.com/image-photo/cozy-street-tables-cafe-paris-260nw-1078952957.jpg\",\n",
    "                 \"https://vintagemattituck.com/cdn/shop/products/Southern-Comfort-Whiskey-750ml_1024x1024.jpg?v=1577747836\",\n",
    "                 \"https://encrypted-tbn0.gstatic.com/images?q=tbn:ANd9GcSWEqUB0xkb-EHP0I9Ev9mYy6cf3idzoaX6I0vyxlTVkA&s\"]\n",
    "}\n",
    "\n",
    "theme = {\n",
    "    \"name\": [\"Taco Fiesta\", \"Mediterranean Delight\", \"Italian Trattoria\", \"BBQ Bash\", \"Asian Fusion\", \"Farm-to-Table\",\n",
    "            \"Seafood Extravaganza\", \"French Bistro\", \"Southern Comfort\", \"Street Food Festival\"],\n",
    "    \"description\": [\"A vibrant and festive theme featuring a taco bar\", \"A theme inspired by the flavors of the Mediterranean\",\n",
    "                   \"Classic Italian fare with a cozy trattoria ambiance\", \"A hearty barbecue feast with grilled meats\",\n",
    "                   \"A mix of popular dishes from different Asian cuisines\", \"A theme centered around fresh locally-sourced ingredients\",\n",
    "                   \"A feast for seafood lovers\", \"Elegant and classic French dishes\", \n",
    "                    \"Comfort food from the American South\", \"An array of street food from around the world\"],\n",
    "    \"image_id\": []\n",
    "}\n",
    "\n",
    "image_theme[\"description\"] = theme[\"description\"]\n",
    "theme[\"image_id\"] = image_theme[\"id\"]"
   ]
  },
  {
   "cell_type": "code",
   "execution_count": 7,
   "id": "5340d7f3-eecf-4bef-8f60-f0604788c37d",
   "metadata": {},
   "outputs": [],
   "source": [
    "pd.DataFrame(theme).to_csv(\"theme.csv\", index=False, quoting=csv.QUOTE_NONNUMERIC, quotechar='\"')\n",
    "pd.DataFrame(image_theme).to_csv(\"image_theme.csv\", index=False, quoting=csv.QUOTE_NONNUMERIC, quotechar='\"')"
   ]
  }
 ],
 "metadata": {
  "kernelspec": {
   "display_name": "Python 3 (ipykernel)",
   "language": "python",
   "name": "python3"
  },
  "language_info": {
   "codemirror_mode": {
    "name": "ipython",
    "version": 3
   },
   "file_extension": ".py",
   "mimetype": "text/x-python",
   "name": "python",
   "nbconvert_exporter": "python",
   "pygments_lexer": "ipython3",
   "version": "3.12.2"
  }
 },
 "nbformat": 4,
 "nbformat_minor": 5
}
