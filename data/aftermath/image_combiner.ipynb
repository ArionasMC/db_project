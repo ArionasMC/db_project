{
 "cells": [
  {
   "cell_type": "code",
   "execution_count": 2,
   "id": "b6fa52e5-90cb-470a-b4df-54a6d0fd7888",
   "metadata": {},
   "outputs": [],
   "source": [
    "import pandas as pd\n",
    "import csv"
   ]
  },
  {
   "cell_type": "code",
   "execution_count": 3,
   "id": "6c3a7397-678a-4e36-a0d8-6ab822a2f1e6",
   "metadata": {},
   "outputs": [],
   "source": [
    "# Combine all images + 0: no image found + new cuisines\n",
    "\n",
    "cuisine = pd.read_csv(\"../cooking_data(image).csv\", sep=';')\n",
    "food_team = pd.read_csv(\"image_food_team.csv\")\n",
    "theme = pd.read_csv(\"image_theme.csv\")\n",
    "chef = pd.read_csv(\"../../app/chef_image.csv\")\n",
    "\n",
    "new_cuisine = {\n",
    "    \"id\": [11,12,13,14],\n",
    "    \"description\":[\"albanian cuisine\", \"american cuisine\", \"bulgarian cuisine\", \"russian cuisine\"],\n",
    "    \"image_url\":[\"https://irp.cdn-website.com/560b6587/dms3rep/multi/image20-f1109880.png\",\n",
    "                \"https://t3.ftcdn.net/jpg/01/92/00/86/360_F_192008611_KrKZcq3NyiNSksLVPc76SQyBeXOfq1o0.jpg\",\n",
    "                \"https://www.shutterstock.com/image-photo/traditional-uzbek-oriental-cuisine-family-600nw-1146169040.jpg\",\n",
    "                \"https://t3.ftcdn.net/jpg/03/00/22/82/360_F_300228239_Fb5WbnaOmvjdPLOieoxlpiR9hBaz4PL9.jpg\"]\n",
    "}\n",
    "id_null = {\"id\":[0],\"description\":[\"error image not found\"], \"image_url\":[\"no url found\"]}\n",
    "frames = [pd.DataFrame(id_null), cuisine, pd.DataFrame(new_cuisine), food_team, theme, chef]\n",
    "\n",
    "result = pd.concat(frames)\n",
    "result.to_csv(\"image.csv\", index=False, quoting=csv.QUOTE_NONNUMERIC, quotechar='\"')"
   ]
  }
 ],
 "metadata": {
  "kernelspec": {
   "display_name": "Python 3 (ipykernel)",
   "language": "python",
   "name": "python3"
  },
  "language_info": {
   "codemirror_mode": {
    "name": "ipython",
    "version": 3
   },
   "file_extension": ".py",
   "mimetype": "text/x-python",
   "name": "python",
   "nbconvert_exporter": "python",
   "pygments_lexer": "ipython3",
   "version": "3.12.2"
  }
 },
 "nbformat": 4,
 "nbformat_minor": 5
}
