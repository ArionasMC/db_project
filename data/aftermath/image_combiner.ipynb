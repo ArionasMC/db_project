{
 "cells": [
  {
   "cell_type": "code",
   "execution_count": 1,
   "id": "b6fa52e5-90cb-470a-b4df-54a6d0fd7888",
   "metadata": {},
   "outputs": [],
   "source": [
    "import pandas as pd\n",
    "import csv"
   ]
  },
  {
   "cell_type": "code",
   "execution_count": 3,
   "id": "6c3a7397-678a-4e36-a0d8-6ab822a2f1e6",
   "metadata": {},
   "outputs": [],
   "source": [
    "# Combine all images + 0: no image found + new cuisines\n",
    "\n",
    "cuisine = pd.read_csv(\"../cooking_data(image).csv\", sep=';')\n",
    "food_team = pd.read_csv(\"image_food_team.csv\")\n",
    "theme = pd.read_csv(\"image_theme.csv\")\n",
    "chef = pd.read_csv(\"../chef_image.csv\")\n",
    "\n",
    "new_cuisine = {\n",
    "    \"id\": [11,12,13,14],\n",
    "    \"description\":[\"albanian cuisine\", \"american cuisine\", \"bulgarian cuisine\", \"russian cuisine\"],\n",
    "    \"image_url\":[\"https://irp.cdn-website.com/560b6587/dms3rep/multi/image20-f1109880.png\",\n",
    "                \"https://t3.ftcdn.net/jpg/01/92/00/86/360_F_192008611_KrKZcq3NyiNSksLVPc76SQyBeXOfq1o0.jpg\",\n",
    "                \"https://www.shutterstock.com/image-photo/traditional-uzbek-oriental-cuisine-family-600nw-1146169040.jpg\",\n",
    "                \"https://t3.ftcdn.net/jpg/03/00/22/82/360_F_300228239_Fb5WbnaOmvjdPLOieoxlpiR9hBaz4PL9.jpg\"]\n",
    "}\n",
    "\n",
    "new_new_cuisine = {\n",
    "    \"id\": [15,16,17,18,19,20],\n",
    "    \"description\":[\"armenian cuisine\", \"ethiopian cuisine\", \"khazakh cuisine\", \"kenyan cuisine\", \"turkmen cuisine\", \"welsh cuisine\"],\n",
    "    \"image_url\":[\"https://encrypted-tbn0.gstatic.com/images?q=tbn:ANd9GcRfL0UWLKH6yCSFrlsauucvsWTRwn4VT3fUCbrVSwfm1w&s\",\n",
    "                 \"https://t3.ftcdn.net/jpg/03/22/16/54/360_F_322165445_eep5aVbojZqnsWj8TUJFpwGX4qh1C3ag.jpg\",\n",
    "                 \"https://media.istockphoto.com/id/1010677810/photo/traditional-uzbek-oriental-cuisine-uzbek-family-table-from-different-dishes-for-the-new-year.jpg?s=612x612&w=0&k=20&c=bCezyNqQUeYWFbodrf2kloJJBPPOeXbr4Fwd6B-wfxM=\",\n",
    "                 \"https://www.kenyasafari.com/images/ugali-nyama-choma-590x390.jpg\",\n",
    "                 \"https://c8.alamy.com/comp/PHRWJH/turkmen-cuisine-central-asian-cuisine-PHRWJH.jpg\",\n",
    "                 \"https://c8.alamy.com/comp/ETENA4/welsh-cakes-or-welshcakes-or-pics-a-traditional-food-delicacy-in-wales-ETENA4.jpg\"]\n",
    "}\n",
    "\n",
    "\n",
    "id_null = {\"id\":[0],\"description\":[\"error image not found\"], \"image_url\":[\"no url found\"]}\n",
    "frames = [pd.DataFrame(id_null), cuisine, pd.DataFrame(new_cuisine), pd.DataFrame(new_new_cuisine), food_team, theme, chef]\n",
    "\n",
    "result = pd.concat(frames)\n",
    "result.to_csv(\"image.csv\", index=False, quoting=csv.QUOTE_NONNUMERIC, quotechar='\"')"
   ]
  }
 ],
 "metadata": {
  "kernelspec": {
   "display_name": "Python 3 (ipykernel)",
   "language": "python",
   "name": "python3"
  },
  "language_info": {
   "codemirror_mode": {
    "name": "ipython",
    "version": 3
   },
   "file_extension": ".py",
   "mimetype": "text/x-python",
   "name": "python",
   "nbconvert_exporter": "python",
   "pygments_lexer": "ipython3",
   "version": "3.12.2"
  }
 },
 "nbformat": 4,
 "nbformat_minor": 5
}
