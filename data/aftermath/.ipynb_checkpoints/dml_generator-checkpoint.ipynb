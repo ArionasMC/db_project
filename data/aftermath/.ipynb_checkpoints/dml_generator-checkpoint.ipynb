{
 "cells": [
  {
   "cell_type": "code",
   "execution_count": 1,
   "id": "f6263805-78a2-46aa-8e32-0bfd6905f265",
   "metadata": {},
   "outputs": [],
   "source": [
    "# Generate the dml script\n",
    "# NOTE: you have to change the path for your own system to work\n",
    "\n",
    "path = \"/var/lib/mysql-files/data/to_import/\"\n",
    "\n",
    "# take order from ddl\n",
    "table_order = [\"image\", \"cuisine\", \"food_team\", \"ingredient\", \"recipe\", \"recipe_has_meal\", \"recipe_has_label\",\n",
    "              \"tip\", \"recipe_has_tip\", \"equipment\", \"recipe_has_equipment\", \"recipe_has_ingredient\",\n",
    "              \"theme\", \"recipe_has_theme\", \"step\", \"food_info\", \"chef\", \"recipe_has_chef\", \"chef_has_cuisine\"]\n",
    "\n",
    "queries = [\"USE mydb;\", \n",
    "           \"SELECT @@secure_file_priv;\",\n",
    "           \"SET SESSION sql_mode='NO_AUTO_VALUE_ON_ZERO';\"]\n",
    "\n",
    "for table in table_order:\n",
    "    queries.append(\"LOAD DATA INFILE '{0}{1}.csv' INTO TABLE {1} FIELDS TERMINATED BY ',' ENCLOSED BY '\\\"' LINES TERMINATED BY '\\\\n' IGNORE 1 ROWS;\".format(path, table))"
   ]
  },
  {
   "cell_type": "code",
   "execution_count": 2,
   "id": "7ac486ff-a60d-4882-8ed5-4041e7f49890",
   "metadata": {},
   "outputs": [],
   "source": [
    "f = open(\"dml_script.sql\", \"w\")\n",
    "for query in queries:\n",
    "    f.write(\"{0}\\n\".format(query))\n",
    "f.close()"
   ]
  }
 ],
 "metadata": {
  "kernelspec": {
   "display_name": "Python 3 (ipykernel)",
   "language": "python",
   "name": "python3"
  },
  "language_info": {
   "codemirror_mode": {
    "name": "ipython",
    "version": 3
   },
   "file_extension": ".py",
   "mimetype": "text/x-python",
   "name": "python",
   "nbconvert_exporter": "python",
   "pygments_lexer": "ipython3",
   "version": "3.12.2"
  }
 },
 "nbformat": 4,
 "nbformat_minor": 5
}
