{
 "cells": [
  {
   "cell_type": "code",
   "execution_count": 8,
   "id": "f32b877d-ada4-4be6-aa9c-41ccf05c469e",
   "metadata": {},
   "outputs": [],
   "source": [
    "import pandas as pd\n",
    "import csv"
   ]
  },
  {
   "cell_type": "code",
   "execution_count": 9,
   "id": "8cd134ca-ca22-4e93-964e-197dfe2530df",
   "metadata": {},
   "outputs": [],
   "source": [
    "image_food_team = {\n",
    "    \"id\": [2001, 2002, 2003, 2004, 2005, 2006, 2007, 2008, 2009, 2010],\n",
    "    \"description\": [],\n",
    "    \"image_url\": [\"https://img.freepik.com/free-vector/vegetables-icons-set_1284-21276.jpg?size=338&ext=jpg&ga=GA1.1.2082370165.1715904000&semt=sph\",\n",
    "                 \"https://img.freepik.com/free-photo/vibrant-collection-healthy-fruit-vegetables-generated-by-ai_24640-80425.jpg\",\n",
    "                 \"https://media02.stockfood.com/largepreviews/Mzk5Mzg4NQ==/00128835-Cereals-bread-spaghetti-potatoes-and-rice.jpg\",\n",
    "                 \"https://img.freepik.com/free-photo/view-allergens-commonly-found-dairy_23-2150170319.jpg\",\n",
    "                 \"https://publish.purewow.net/wp-content/uploads/sites/2/2022/07/types-of-legumes-hero.jpg?resize=720%2C780\",\n",
    "                 \"https://www.shutterstock.com/image-photo/fresh-raw-beef-steaks-on-260nw-1457200706.jpg\",\n",
    "                 \"https://media.istockphoto.com/id/93456512/photo/raw-chicken.jpg?s=612x612&w=0&k=20&c=UuvFL4g04JjBtrBdF9dAVReSUxELJey3CHEZv5z9OyE=\",\n",
    "                 \"https://cdn.britannica.com/94/151894-050-F72A5317/Brown-eggs.jpg\",\n",
    "                 \"https://media.istockphoto.com/id/520490716/photo/seafood-on-ice.jpg?s=612x612&w=0&k=20&c=snyxGY26viNQ6BWqW-ez4U7tAO65Z_tmAFPMobiZ9Q4=\",\n",
    "                 \"https://media.istockphoto.com/id/1332649193/photo/oil-hazelnut-in-sauceboat-on-board.jpg?s=612x612&w=0&k=20&c=jv7yA9YdXRHSBcJEqayZjQqRctZZGmD_WbX1jFMsHfE=\"]\n",
    "}\n",
    "\n",
    "food_team = {\n",
    "    \"short_name\": [\"vegetarian\", \"fruity\", \"potatoy\", \"dairy\", \"legumy\", \"red-carnivorous\",\n",
    "                  \"white-carnivorous\", \"eggy\", \"seafood\", \"oil-nuts\"],\n",
    "    \"description\": [\"Cabbage carrots etc\", \"Apples bananas etc\", \"Potato cereal etc\", \"Milk, cheese etc\", \"Peas beans etc\", \"Beef pork etc\",\n",
    "                   \"Chicken etc\", \"Eggs (come on)\", \"fish shrimps etc\", \"Olives Nuts etc\"],\n",
    "    \"long_name\": [\"Vegetables\", \"Fruit\", \"Cereal and Potatoes\", \"Milk and Dairy products\", \"Legumes\", \"Red Meat\",\n",
    "                 \"White Meat\", \"Eggs\", \"Fish and Seafood\", \"Fat Oils and Nuts\"],\n",
    "    \"image_id\": []\n",
    "}\n",
    "\n",
    "image_food_team[\"description\"] = food_team[\"description\"]\n",
    "food_team[\"image_id\"] = image_food_team[\"id\"]\n"
   ]
  },
  {
   "cell_type": "code",
   "execution_count": 10,
   "id": "5a347c9a-5f9c-4d1e-8f2a-ad1ecd1a1809",
   "metadata": {},
   "outputs": [],
   "source": [
    "pd.DataFrame(image_food_team).to_csv(\"image_food_team.csv\", index=False, quoting=csv.QUOTE_NONNUMERIC, quotechar='\"')\n",
    "pd.DataFrame(food_team).to_csv(\"food_team.csv\", index=False, quoting=csv.QUOTE_NONNUMERIC, quotechar='\"')"
   ]
  }
 ],
 "metadata": {
  "kernelspec": {
   "display_name": "Python 3 (ipykernel)",
   "language": "python",
   "name": "python3"
  },
  "language_info": {
   "codemirror_mode": {
    "name": "ipython",
    "version": 3
   },
   "file_extension": ".py",
   "mimetype": "text/x-python",
   "name": "python",
   "nbconvert_exporter": "python",
   "pygments_lexer": "ipython3",
   "version": "3.12.2"
  }
 },
 "nbformat": 4,
 "nbformat_minor": 5
}
