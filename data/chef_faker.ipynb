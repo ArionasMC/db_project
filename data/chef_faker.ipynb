{
 "cells": [
  {
   "cell_type": "code",
   "execution_count": 1,
   "id": "c376ceb1-b1cc-461f-823d-0d6911672d11",
   "metadata": {},
   "outputs": [],
   "source": [
    "from faker import Faker\n",
    "import pandas as pd\n",
    "import datetime\n",
    "import random\n",
    "from dateutil.relativedelta import relativedelta\n",
    "import csv"
   ]
  },
  {
   "cell_type": "code",
   "execution_count": 2,
   "id": "3ec87446-8197-4b57-990f-dfad1f5ad22b",
   "metadata": {},
   "outputs": [],
   "source": [
    "chef_dict = {\n",
    "    \"id\": [],\n",
    "    \"first_name\":[],\n",
    "    \"last_name\":[],\n",
    "    \"phone\":[],\n",
    "    \"date_of_birth\":[],\n",
    "    \"age\":[],\n",
    "    \"years_exp\":[],\n",
    "    \"rank\":[],\n",
    "    \"image_id\":[]\n",
    "}\n",
    "\n",
    "ranks = [\"C Cook\", \"B Cook\", \"A Cook\", \"Helper Cook\", \"Chef\"]\n",
    "\n",
    "fake = Faker()\n",
    "\n",
    "N = 100\n",
    "for i in range(0, 100):\n",
    "    chef_dict[\"id\"].append(i+1)\n",
    "    chef_dict[\"first_name\"].append(fake.first_name())\n",
    "    chef_dict[\"last_name\"].append(fake.last_name())\n",
    "    chef_dict[\"phone\"].append(fake.phone_number())\n",
    "    \n",
    "    end_date = datetime.date.today()\n",
    "    start_date = fake.date_between(start_date=datetime.date(1970, 1, 1), end_date=datetime.date(2003, 12, 30))\n",
    "    diff = relativedelta(end_date, start_date).years\n",
    "   \n",
    "    chef_dict[\"date_of_birth\"].append(start_date)\n",
    "    chef_dict[\"age\"].append(0)\n",
    "    chef_dict[\"years_exp\"].append(random.randint(3,diff))\n",
    "    chef_dict[\"rank\"].append(random.choice(ranks))\n",
    "    chef_dict[\"image_id\"].append(1)\n"
   ]
  },
  {
   "cell_type": "code",
   "execution_count": 3,
   "id": "3390f991-1545-4eb6-a22b-30beee579668",
   "metadata": {},
   "outputs": [],
   "source": [
    "chef_df = pd.DataFrame(chef_dict)\n",
    "chef_df.to_csv(\"chef.csv\", index=False, quoting=csv.QUOTE_NONNUMERIC, quotechar='\"')"
   ]
  }
 ],
 "metadata": {
  "kernelspec": {
   "display_name": "Python 3 (ipykernel)",
   "language": "python",
   "name": "python3"
  },
  "language_info": {
   "codemirror_mode": {
    "name": "ipython",
    "version": 3
   },
   "file_extension": ".py",
   "mimetype": "text/x-python",
   "name": "python",
   "nbconvert_exporter": "python",
   "pygments_lexer": "ipython3",
   "version": "3.12.2"
  }
 },
 "nbformat": 4,
 "nbformat_minor": 5
}
