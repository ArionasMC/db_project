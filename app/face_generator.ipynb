{
 "cells": [
  {
   "cell_type": "code",
   "execution_count": 73,
   "id": "083ea533-8aff-4de5-8818-cc12b4a8f938",
   "metadata": {},
   "outputs": [],
   "source": [
    "from PIL import Image\n",
    "import random\n",
    "import pandas as pd\n",
    "import csv"
   ]
  },
  {
   "cell_type": "code",
   "execution_count": 61,
   "id": "28f07a82-9b71-4b8a-9bfd-841c0b28bbe4",
   "metadata": {},
   "outputs": [],
   "source": [
    "hair = [Image.open(\"base_images/hair.png\"), Image.open(\"base_images/hair2.png\"), Image.open(\"base_images/hair3.png\")]\n",
    "mouth = [Image.open(\"base_images/mouth.png\"), Image.open(\"base_images/mouth2.png\"), Image.open(\"base_images/mouth3.png\")]\n",
    "eyes = [Image.open(\"base_images/eyes.png\"), Image.open(\"base_images/eyes2.png\")]\n",
    "\n",
    "WHITE = (255,255,255,255)\n",
    "BLACK = (0,0,0,255)\n",
    "skin_colors = [(255, 217, 112, 255), (252, 186, 3, 255), (92, 69, 53, 255), (66, 53, 43, 255), (242, 240, 131, 255)]"
   ]
  },
  {
   "cell_type": "code",
   "execution_count": 62,
   "id": "42ff89e8-21a2-4ced-bb7d-3a4010d05448",
   "metadata": {},
   "outputs": [],
   "source": [
    "def get_random_hair_or_mouth(is_hair=True):\n",
    "    rh = random.choice(hair).convert('RGBA')\n",
    "    if not is_hair:\n",
    "        rh = random.choice(mouth).convert('RGBA')\n",
    "    color = (random.randint(0,255), random.randint(0,255), random.randint(0,255), 255)\n",
    "    for i in range(0, rh.size[0]):\n",
    "        for j in range(0, rh.size[1]):\n",
    "            if rh.getpixel((i, j)) == WHITE:\n",
    "                rh.putpixel((i,j), color)\n",
    "    return rh\n",
    "\n",
    "#get_random_hair_or_mouth(is_hair=True).show()   \n",
    "\n",
    "def get_random_eyes():\n",
    "    re = random.choice(eyes).convert('RGBA')\n",
    "    color = (random.randint(0,255), random.randint(0,255), random.randint(0,255), 255)\n",
    "    for i in range(0, re.size[0]):\n",
    "        for j in range(0, re.size[1]):\n",
    "            if re.getpixel((i, j)) == BLACK:\n",
    "                re.putpixel((i,j), color)\n",
    "    return re\n",
    "\n",
    "#get_random_eyes().show()"
   ]
  },
  {
   "cell_type": "code",
   "execution_count": 64,
   "id": "b8e166d9-c674-40a7-a21d-04549fd1d02f",
   "metadata": {},
   "outputs": [],
   "source": [
    "def generate_face():\n",
    "    face = Image.new(mode='RGBA', size=(16,16), color=random.choice(skin_colors))\n",
    "    face_hair = get_random_hair_or_mouth()\n",
    "    face_mouth = get_random_hair_or_mouth(is_hair=False)\n",
    "    face_eyes = get_random_eyes()\n",
    "    face.paste(face_hair, (0,0), face_hair)\n",
    "    face.paste(face_mouth, (0,0), face_mouth)\n",
    "    face.paste(face_eyes, (0,0), face_eyes)\n",
    "    return face\n",
    "\n",
    "#generate_face().show()"
   ]
  },
  {
   "cell_type": "code",
   "execution_count": 74,
   "id": "70b09d68-f96e-4f5f-8757-5df80fd93709",
   "metadata": {},
   "outputs": [],
   "source": [
    "image = {\n",
    "    \"id\": [],\n",
    "    \"description\": [],\n",
    "    \"image_url\": []\n",
    "}\n",
    "\n",
    "def save_faces(prefix, times):\n",
    "    for i in range(0, times):\n",
    "        face = generate_face()\n",
    "        path = \"generated/faces/{0}_{1}.png\".format(prefix, i+1)\n",
    "        face.save(path)\n",
    "        image[\"id\"].append(9001+i)\n",
    "        image[\"description\"].append(\"chefs image :O\")\n",
    "        image[\"image_url\"].append(path)\n",
    "\n",
    "save_faces(\"chef\", 100)\n",
    "pd.DataFrame(image).to_csv(\"chef_image.csv\", index=False, quoting=csv.QUOTE_NONNUMERIC, quotechar='\"')"
   ]
  }
 ],
 "metadata": {
  "kernelspec": {
   "display_name": "Python 3 (ipykernel)",
   "language": "python",
   "name": "python3"
  },
  "language_info": {
   "codemirror_mode": {
    "name": "ipython",
    "version": 3
   },
   "file_extension": ".py",
   "mimetype": "text/x-python",
   "name": "python",
   "nbconvert_exporter": "python",
   "pygments_lexer": "ipython3",
   "version": "3.12.2"
  }
 },
 "nbformat": 4,
 "nbformat_minor": 5
}
